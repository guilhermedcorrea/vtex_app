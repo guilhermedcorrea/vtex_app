{
 "cells": [
  {
   "cell_type": "code",
   "execution_count": 70,
   "metadata": {},
   "outputs": [
    {
     "name": "stdout",
     "output_type": "stream",
     "text": [
      "{\"Id\":125,\"Name\":\"Lava Louças Líquido Esfrelux Neutro De 500 ml\",\"DepartmentId\":9,\"CategoryId\":30,\"BrandId\":2000003,\"LinkId\":\"detergente-liquido-esfrelux-neutro-500-ml\",\"RefId\":\"005.2010\",\"IsVisible\":true,\"Description\":\"<p>O <strong>detergente líquido Neutro 500ml Esfrelux</strong> é um detergente líquido de limpeza multiuso que foi projetado para remover sujeira e manchas sem danificar superfícies delicadas. Ele é formulado com ingredientes suaves e neutros, que tornam o produto seguro para uso em diversos materiais, como plásticos, vidros, cerâmicas e metais.</p>\\r\\n\\r\\n<p>O detergente líquido Neutro Esfrelux é eficaz na limpeza de diversos tipos de sujeira, incluindo gordura, óleo, graxa, poeira e sujeira em geral. Sua fórmula especial não contém corantes ou fragrâncias fortes, o que o torna uma ótima opção para pessoas que são sensíveis a produtos químicos fortes ou têm alergias.</p>\\r\\n\\r\\n<p>Além disso, o detergente líquido Neutro Esfrelux é fácil de usar. Basta aplicar uma pequena quantidade do produto em uma esponja ou pano úmido e limpar a superfície desejada. Depois de limpar, basta enxaguar com água limpa e secar.</p>\\r\\n\\r\\n<p>O detergente líquido Neutro Esfrelux vem em uma embalagem prática de 500 ml, que é fácil de manusear e armazenar. Ele é um produto de limpeza confiável e eficaz que pode ser usado em toda a casa, incluindo cozinha, banheiro e outras áreas.</p>\",\"DescriptionShort\":\"\",\"ReleaseDate\":\"2021-06-14T00:00:00\",\"KeyWords\":\"detergente,lava,louça,louca,loussa,desengordurante,gordura,manchas,tira,limpador,multiuso,neutro,clear,remover,gorduras\",\"Title\":\"Detergente Líquido Neutro 500ml Esfrelux\",\"IsActive\":true,\"TaxCode\":\"\",\"MetaTagDescription\":\"O detergente líquido Neutro Esfrelux é eficaz na limpeza de diversos tipos de sujeira, incluindo gordura, óleo, graxa, poeira e sujeira em geral.\",\"SupplierId\":null,\"ShowWithoutStock\":true,\"AdWordsRemarketingCode\":null,\"LomadeeCampaignCode\":null,\"Score\":65}\n"
     ]
    }
   ],
   "source": [
    "import requests\n",
    "\n",
    "url = \"https://t78536.myvtex.com/api/catalog/pvt/product/125\"\n",
    "\n",
    "\n",
    "payload = {}\n",
    "headers = {\n",
    "    'Accept': \"application/json\",\n",
    "    'Content-Type': \"application/json\",\n",
    "    'X-VTEX-API-AppKey': \"vtexappkey-t78536-LFMRQA\",\n",
    "    'X-VTEX-API-AppToken': \"KGIYMGNJMHTJDRMECXRYUUFJQTEWBFTXUWWZLUBTZAQXATOHMXUXKUICGTHFCMSSIQBXWEBDIHDXMSHXJAXAXZERPMSZSECJEGQFTXANGHHJEZHKDBGWLQEDXDLIKEEZ\"\n",
    "    }\n",
    "\n",
    "response = requests.request(\"GET\", url, headers=headers, data=payload)\n",
    "\n",
    "print(response.text)\n"
   ]
  },
  {
   "cell_type": "code",
   "execution_count": null,
   "metadata": {},
   "outputs": [],
   "source": []
  },
  {
   "cell_type": "code",
   "execution_count": 112,
   "metadata": {},
   "outputs": [],
   "source": [
    "import pandas as pd\n",
    "from sqlalchemy import Table\n",
    "from sqlalchemy.orm import declarative_base\n",
    "from sqlalchemy import Table, MetaData, Float, Integer,ForeignKey,DateTime, Boolean, String, Column\n",
    "from datetime import datetime\n",
    "from sqlalchemy import insert,select\n",
    "import requests\n",
    "import http.client\n",
    "from dotenv import load_dotenv\n",
    "import os\n",
    "import json\n",
    "from itertools import chain\n",
    "\n",
    "import pandas as pd"
   ]
  },
  {
   "cell_type": "code",
   "execution_count": 113,
   "metadata": {},
   "outputs": [],
   "source": [
    "from sqlalchemy import create_engine\n",
    "from sqlalchemy.orm import sessionmaker\n",
    "from sqlalchemy import create_engine\n",
    "from sqlalchemy.engine import URL\n",
    "import os\n",
    "from pathlib import Path\n",
    "from dotenv import load_dotenv\n",
    "from urllib import parse\n",
    "from dotenv import load_dotenv\n",
    "from os import path"
   ]
  },
  {
   "cell_type": "code",
   "execution_count": 114,
   "metadata": {},
   "outputs": [],
   "source": [
    "def mssql_get_conn():\n",
    "\n",
    "    connection_url = URL.create(\n",
    "            \"mssql+pyodbc\",\n",
    "            username=\"sa\",\n",
    "            password=\"123\",\n",
    "            host=\"Guilherme\",\n",
    "            database=\"Ecommerce\",\n",
    "            query={\n",
    "                \"driver\": \"ODBC Driver 17 for SQL Server\",\n",
    "                \"autocommit\": \"True\",\n",
    "        },\n",
    "        )\n",
    "      \n",
    "    engine = create_engine(connection_url).execution_options(\n",
    "    isolation_level=\"AUTOCOMMIT\", future=True,fast_executemany=True)\n",
    "    return engine\n"
   ]
  },
  {
   "cell_type": "code",
   "execution_count": null,
   "metadata": {},
   "outputs": [],
   "source": [
    "class Precos(db.Model):\n",
    "    __tablename__ = 'precos'\n",
    "    __table_args__ = {\"schema\": \"vtex\"}\n",
    "    cod_preco = db.Column(db.Integer, primary_key=True)\n",
    "    novo_preco =db.Column(db.Float)\n",
    "    preco =db.Column(db.Float)\n",
    "    preco_base =db.Column(db.Float)\n",
    "    skuid =db.Column(db.Integer)\n",
    "    cod_marca = db.Column(db.Integer, db.ForeignKey('vtex.marca.cod_marca'), nullable=False)\n",
    "    trade_policy = db.Column(db.Integer)\n",
    "    cnt = db.Column(db.Integer)\n",
    "    canal_venda_porcentagem = db.Column(db.Integer)\n",
    "    custo_envio = db.Column(db.Float)\n",
    "    preco_final = db.Column(db.Float)\n",
    "    cod_produto = db.Column(db.Integer, db.ForeignKey('vtex.produto.cod_produto'), nullable=False)\n",
    "    data_alterado = db.Column(db.DateTime, unique=False, nullable=False)\n",
    "    produto = db.relationship('Produto', backref='cod_preco', lazy=True)\n",
    "    marca = db.relationship('Marca', backref='cod_preco', lazy=True)"
   ]
  },
  {
   "cell_type": "code",
   "execution_count": 131,
   "metadata": {},
   "outputs": [],
   "source": [
    "engine = mssql_get_conn()\n",
    "metadata = MetaData()\n",
    "metadata_obj = MetaData(schema=\"vtex\")\n",
    "\n",
    "precos = Table(\n",
    "\"precos\",\n",
    "metadata,\n",
    "Column('cod_preco',Integer, primary_key=True),\n",
    "Column('novo_preco',Float),\n",
    "Column('preco',Float),\n",
    "Column('preco_base',Float),\n",
    "Column('skuid',Integer),\n",
    "Column('cod_marca',Integer),\n",
    "Column('trade_policy',Integer),\n",
    "Column('cnt',Float),\n",
    "Column('canal_venda_porcentagem',Integer),\n",
    "Column('custo_envio',Float),\n",
    "Column('preco_final',Float),\n",
    "Column('cod_produto',Integer),\n",
    "Column('produto',Integer),\n",
    "Column('marca',Integer),\n",
    "\n",
    "schema=\"vtex\",extend_existing=True,implicit_returning=False)\n"
   ]
  },
  {
   "cell_type": "code",
   "execution_count": null,
   "metadata": {},
   "outputs": [],
   "source": [
    "data = pd.read_csv(r\"C:\\vtex_app\\Base Prices With Metadata.csv\",sep=\";\")\n",
    "data = data[['SKU ID','Cost Price','Base Price','List Price','SKU Name (View Only)','Ref ID (View Only)']]\n",
    "data['Base Price'] = data['Base Price'].astype(float)\n",
    "dicts = data.to_dict('records')\n",
    "for dic in dicts:\n",
    "    \n",
    "    print(dic['SKU ID'],dic['Cost Price'],dic['Base Price'],dic['SKU Name (View Only)'])\n",
    "\n",
    "    dwengine  = mssql_get_conn()\n",
    "    conn = engine.connect()\n",
    "    \n",
    "    \n",
    "    \n",
    "    with dwengine.connect() as conn:\n",
    "        \n",
    "            \n",
    "            \n",
    "        result = conn.execute(insert(precos))\n",
    "        \n",
    "        result = conn.execute(insert(precos))\n",
    "        [{\"skuid\":dic['SKU ID'],\"preco_base\":float(dic['Base Price'])}] \n",
    "   "
   ]
  },
  {
   "cell_type": "code",
   "execution_count": 111,
   "metadata": {},
   "outputs": [
    {
     "name": "stdout",
     "output_type": "stream",
     "text": [
      "Requirement already satisfied: SQLAlchemy in .\\venv\\lib\\site-packages (2.0.13)\n",
      "Requirement already satisfied: typing-extensions>=4.2.0 in .\\venv\\lib\\site-packages (from SQLAlchemy) (4.5.0)\n",
      "Requirement already satisfied: greenlet!=0.4.17 in .\\venv\\lib\\site-packages (from SQLAlchemy) (2.0.2)\n",
      "Note: you may need to restart the kernel to use updated packages.\n"
     ]
    }
   ],
   "source": [
    "\n",
    "            \n",
    "            \n",
    "                result = conn.execute(insert(DimPedido)\n",
    "                                    ,[{\"ref_contrato\":int(arg[\"NumeroContrato\"]),\"ref_produto\":int(arg[\"produtoId\"])\n",
    "                                    ,\"ref_cliente\":float(arg[\"idpessoa\"]),\"valor_total\":arg[\"totalvenda\"],\"frete_total\":arg[\"totalfrete\"]\n",
    "                                    ,\"data_cadastro\":arg[\"dataCadastro\"],\"ref_venda\":float(arg[\"idvenda\"]),\"ref_unidade\":int(arg[\"unidadeId\"])\n",
    "                                    ,\"margem\":arg[\"margem\"],\"quantidade\":float(arg[\"quantidade\"])\n",
    "                                    ,\"valor_unitario\":arg[\"valorUnitario\"],\"frete_unitario\":arg[\"valorFrete\"]\n",
    "                                    ,\"custounitario\":arg[\"valorUnitarioCusto\"],\"bit_ambientado\":arg[\"bitambientado\"],\n",
    "                                    \"bit_showroom\":arg[\"pedidoShowroom\"],\"ref_status\":int(arg[\"statusId\"]),\"ref_endereco\":int(arg[\"enderecoId\"])\n",
    "                                ,\"pessoafisica\":arg[\"pessoafisica\"],\"dataEstimadaEntrega\":arg[\"dataEstimadaEntrega\"]\n",
    "                                ,\"data_montagem\":arg[\"dataEstimadaMontagem\"]}] "
   ]
  },
  {
   "cell_type": "code",
   "execution_count": null,
   "metadata": {},
   "outputs": [],
   "source": []
  },
  {
   "cell_type": "code",
   "execution_count": 72,
   "metadata": {},
   "outputs": [
    {
     "name": "stdout",
     "output_type": "stream",
     "text": [
      "{\"skuId\":\"125\",\"balance\":[{\"warehouseId\":\"1\",\"warehouseName\":\"CNT -Capital\",\"totalQuantity\":560,\"reservedQuantity\":0,\"hasUnlimitedQuantity\":false,\"timeToRefill\":null,\"dateOfSupplyUtc\":null},{\"warehouseId\":\"3\",\"warehouseName\":\"estoque - STA MARIA\",\"totalQuantity\":1000269,\"reservedQuantity\":269,\"hasUnlimitedQuantity\":true,\"timeToRefill\":null,\"dateOfSupplyUtc\":null}]}\n"
     ]
    }
   ],
   "source": [
    "import http.client\n",
    "\n",
    "\n",
    "url = \"https://t78536.myvtex.com/api/logistics/pvt/inventory/skus/125\"\n",
    "\n",
    "headers = {\n",
    "    'Accept': \"application/json\",\n",
    "    'Content-Type': \"application/json; charset=utf-8\",\n",
    "    'X-VTEX-API-AppKey': \"vtexappkey-t78536-LFMRQA\",\n",
    "    'X-VTEX-API-AppToken': \"KGIYMGNJMHTJDRMECXRYUUFJQTEWBFTXUWWZLUBTZAQXATOHMXUXKUICGTHFCMSSIQBXWEBDIHDXMSHXJAXAXZERPMSZSECJEGQFTXANGHHJEZHKDBGWLQEDXDLIKEEZ\"\n",
    "    }\n",
    "\n",
    "response = requests.request(\"GET\", url, headers=headers, data=payload)\n",
    "\n",
    "print(response.text)"
   ]
  }
 ],
 "metadata": {
  "kernelspec": {
   "display_name": "venv",
   "language": "python",
   "name": "python3"
  },
  "language_info": {
   "codemirror_mode": {
    "name": "ipython",
    "version": 3
   },
   "file_extension": ".py",
   "mimetype": "text/x-python",
   "name": "python",
   "nbconvert_exporter": "python",
   "pygments_lexer": "ipython3",
   "version": "3.11.2"
  },
  "orig_nbformat": 4
 },
 "nbformat": 4,
 "nbformat_minor": 2
}
